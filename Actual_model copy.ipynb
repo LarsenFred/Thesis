{
 "cells": [
  {
   "cell_type": "markdown",
   "metadata": {},
   "source": [
    "# DC-EGM med Max's Model"
   ]
  },
  {
   "cell_type": "markdown",
   "metadata": {},
   "source": [
    "## load packages and dependencies"
   ]
  },
  {
   "cell_type": "code",
   "execution_count": 30,
   "metadata": {},
   "outputs": [],
   "source": [
    "#Dependencies\n",
    "import jax.numpy as jnp\n",
    "import numpy as np\n",
    "from dcegm.solve import get_solve_func_for_model\n",
    "from dcegm.pre_processing.setup_model import setup_model\n",
    "\n",
    "from typing import Tuple\n",
    "\n",
    "import pandas as pd\n",
    "import matplotlib.pyplot as plt\n",
    "\n",
    "\n",
    "\n",
    "from dcegm.sim_interface import get_sol_and_sim_func_for_model\n",
    "from dcegm.simulation.simulate import simulate_all_periods\n",
    "from dcegm.simulation.sim_utils import create_simulation_df"
   ]
  },
  {
   "cell_type": "markdown",
   "metadata": {},
   "source": [
    "## Initiate parameters - to be estimated"
   ]
  },
  {
   "cell_type": "code",
   "execution_count": 31,
   "metadata": {},
   "outputs": [],
   "source": [
    "params = {}\n",
    "params[\"interest_rate\"] = 0.02\n",
    "params[\"sigma\"] = 1\n",
    "params[\"lambda\"] = 1\n",
    "params[\"beta\"] = 0.96\n",
    "params[\"rho\"]=0.79488\n",
    "params[\"gamma\"]=jnp.array([0.005,0.015,0.02])\n",
    "params[\"beta0\"]=0.5\n",
    "params[\"beta1\"]=0.003\n",
    "params[\"beta2\"]=-0.00003\n",
    "params[\"kappa1\"]=0.05083\n",
    "params[\"kappa2\"]=0.00008"
   ]
  },
  {
   "cell_type": "markdown",
   "metadata": {},
   "source": [
    "## Options for model - Choices and states"
   ]
  },
  {
   "cell_type": "code",
   "execution_count": 32,
   "metadata": {},
   "outputs": [],
   "source": [
    "options = {\n",
    "    \"model_params\": {\n",
    "        #\"quadrature_points_stochastic\": 5, \n",
    "        \"n_quad_points_stochastic\": 5,\n",
    "        \"hours\": jnp.array([0,10,15,35]), #list \n",
    "        \"min_age\": 30,\n",
    "    },\n",
    "    \"state_space\": {\n",
    "        \"n_periods\": 45,\n",
    "        \"choices\": np.arange(4), # 4 choices\n",
    "        \"continuous_states\": {\n",
    "            \"wealth\": np.linspace(0, 50, 100),\n",
    "        },\n",
    "    },\n",
    "}"
   ]
  },
  {
   "cell_type": "markdown",
   "metadata": {},
   "source": [
    "## Defining utility"
   ]
  },
  {
   "cell_type": "code",
   "execution_count": 33,
   "metadata": {},
   "outputs": [],
   "source": [
    "def flow_util(consumption, choice, params, period, options):\n",
    "    rho = params[\"rho\"]\n",
    "    age = options[\"start_age\"] + period\n",
    "    hours = options[\"hours\"][choice]\n",
    "    gamma = params[\"gamma\"][choice-1] #remove the first element\n",
    "\n",
    "    # for disutility of work\n",
    "    working = choice > 0\n",
    "    age_1=age < 35\n",
    "    age_2=age > 45\n",
    "    \n",
    "    disutil = jnp.where(working, 1, 0) * (1 + (params[\"kappa1\"] * age) * jnp.where(age_1,1,0) + (params[\"kappa2\"] * age**2) * jnp.where(age_2,1,0)) * (hours*gamma)\n",
    "\n",
    "    u = consumption ** (1 - rho) / (1 - rho) - disutil #working*gamma*hours*(1+(kappa1*age)*age_1+(kappa2*age_2)**2*age_2) #jax.lax.select(working, gamma, 0) - if a NaN included\n",
    "    return u\n",
    "\n",
    "def marginal_utility(consumption, params):\n",
    "    rho = params[\"rho\"]\n",
    "    u_prime = consumption ** (-rho)\n",
    "    return u_prime\n",
    "\n",
    "\n",
    "def inverse_marginal_utility(marginal_utility, params):\n",
    "    rho = params[\"rho\"]\n",
    "    return marginal_utility ** (-1 / rho)\n",
    "\n",
    "\n",
    "utility_functions = {\n",
    "    \"utility\": flow_util,\n",
    "    \"inverse_marginal_utility\": inverse_marginal_utility,\n",
    "    \"marginal_utility\": marginal_utility,\n",
    "}\n"
   ]
  },
  {
   "cell_type": "markdown",
   "metadata": {},
   "source": [
    "## Budget constraint\n",
    "\n",
    "Need to define the budget constraint, including the old age benefits and the selfpaid pensions.\n",
    "Suspect error in applying the choice, since no-one will work in the model (probably super low income?)"
   ]
  },
  {
   "cell_type": "markdown",
   "metadata": {},
   "source": [
    "Hvilke units på penge?"
   ]
  },
  {
   "cell_type": "code",
   "execution_count": 47,
   "metadata": {},
   "outputs": [],
   "source": [
    "def budget_dcegm(\n",
    "    lagged_choice,\n",
    "    savings_end_of_previous_period,\n",
    "    income_shock_previous_period,\n",
    "    params,\n",
    "    options,\n",
    "    period,\n",
    "):  # noqa: 100\n",
    "    interest_factor = 1 + params[\"interest_rate\"]\n",
    "    age = options[\"min_age\"] + period\n",
    "    \n",
    "    wage = (jnp.exp(params[\"beta0\"] + params[\"beta1\"] * age + params[\"beta2\"] * age ** 2) + income_shock_previous_period)\n",
    "    hours = options[\"hours\"][lagged_choice]\n",
    "    threshold = 6.0\n",
    "    base_rate = 0.37\n",
    "    top_rate = 0.50\n",
    "    tax = jnp.where(wage <= threshold, base_rate, top_rate)\n",
    "    oldage = jnp.where((age > 67) & (hours == 0), 1.4, 0)\n",
    "    #tax = 0.4\n",
    "    resource = (\n",
    "        interest_factor * savings_end_of_previous_period\n",
    "        + wage*hours*tax + oldage*tax #include pensions\n",
    "    )\n",
    "\n",
    "    return jnp.maximum(resource, 0.5), aux_dict\n"
   ]
  },
  {
   "cell_type": "code",
   "execution_count": 35,
   "metadata": {},
   "outputs": [],
   "source": [
    "def budget_with_aux(\n",
    "    period,\n",
    "    lagged_choice,\n",
    "    savings_end_of_previous_period,\n",
    "    income_shock_previous_period,\n",
    "    options,\n",
    "    params,\n",
    "):\n",
    "    wealth, shock, income = budget_constraint_raw(\n",
    "        period,\n",
    "        lagged_choice,\n",
    "        savings_end_of_previous_period,\n",
    "        income_shock_previous_period,\n",
    "        options,\n",
    "        params,\n",
    "    )\n",
    "    aux_dict = {\n",
    "        \"income\": income,\n",
    "    }\n",
    "    return wealth, aux_dict\n"
   ]
  },
  {
   "cell_type": "code",
   "execution_count": 43,
   "metadata": {},
   "outputs": [],
   "source": [
    "def budget_constraint_raw(\n",
    "    period,\n",
    "    lagged_choice,\n",
    "    savings_end_of_previous_period,\n",
    "    income_shock_previous_period,\n",
    "    options,\n",
    "    params,\n",
    "):\n",
    "    # Calculate stochastic labor income\n",
    "    income_from_previous_period = _calc_stochastic_income(\n",
    "        period=period,\n",
    "        lagged_choice=lagged_choice,\n",
    "        wage_shock=income_shock_previous_period,\n",
    "        min_age=options[\"min_age\"],\n",
    "        constant=params[\"beta0\"],\n",
    "        exp=params[\"beta1\"],\n",
    "        exp_squared=params[\"beta2\"],\n",
    "    )\n",
    "\n",
    "    wealth_beginning_of_period = (\n",
    "        income_from_previous_period\n",
    "        + (1 + params[\"interest_rate\"]) * savings_end_of_previous_period\n",
    "    )\n",
    "\n",
    "    # Retirement safety net, only in retirement model, but we require to have it always\n",
    "    # as a parameter\n",
    "    wealth_beginning_of_period = jnp.maximum(\n",
    "        wealth_beginning_of_period, 0.5 # lowest amount possible \n",
    "    )\n",
    "\n",
    "    return (\n",
    "        wealth_beginning_of_period,\n",
    "        income_shock_previous_period,\n",
    "        income_from_previous_period,\n",
    "    )"
   ]
  },
  {
   "cell_type": "code",
   "execution_count": 44,
   "metadata": {},
   "outputs": [],
   "source": [
    "def _calc_stochastic_income(\n",
    "    period,\n",
    "    lagged_choice,\n",
    "    wage_shock,\n",
    "    min_age,\n",
    "    constant,\n",
    "    exp,\n",
    "    exp_squared,\n",
    "):\n",
    "    # For simplicity, assume current_age - min_age = experience\n",
    "    age = period + min_age\n",
    "\n",
    "    # Determinisctic component of income depending on experience:\n",
    "    # constant + alpha_1 * age + alpha_2 * age**2\n",
    "    exp_coeffs = jnp.array([constant, exp, exp_squared])\n",
    "    labor_income = exp_coeffs @ (age ** jnp.arange(len(exp_coeffs)))\n",
    "    working_income = jnp.exp(labor_income + wage_shock)\n",
    "\n",
    "    return (1 - lagged_choice) * working_income"
   ]
  },
  {
   "cell_type": "code",
   "execution_count": null,
   "metadata": {},
   "outputs": [],
   "source": []
  },
  {
   "cell_type": "markdown",
   "metadata": {},
   "source": [
    "## Final period util - for solving model"
   ]
  },
  {
   "cell_type": "code",
   "execution_count": 48,
   "metadata": {},
   "outputs": [],
   "source": [
    "def final_period_utility(wealth: float, choice: int, params, period, options) -> Tuple[float, float]:\n",
    "    return flow_util(wealth, choice, params, period, options)\n",
    "\n",
    "\n",
    "def marginal_final(wealth):\n",
    "    return marginal_utility(wealth, params)\n",
    "\n",
    "\n",
    "final_period_utility = {\n",
    "    \"utility\": final_period_utility,\n",
    "    \"marginal_utility\": marginal_final,\n",
    "}"
   ]
  },
  {
   "cell_type": "markdown",
   "metadata": {},
   "source": [
    "## Solve the model"
   ]
  },
  {
   "cell_type": "code",
   "execution_count": 46,
   "metadata": {},
   "outputs": [
    {
     "name": "stdout",
     "output_type": "stream",
     "text": [
      "State specific choice set not provided. Assume all choices are available in every state.\n",
      "Update function for state space not given. Assume states only change with an increase of the period and lagged choice.\n",
      "Sparsity condition not provided. Assume all states are valid.\n",
      "Starting state space creation\n",
      "State space created.\n",
      "\n",
      "Starting state-choice space creation and child state mapping.\n",
      "State, state-choice and child state mapping created.\n",
      "\n",
      "Start creating batches for the model.\n",
      "The batch size of the backwards induction is  16\n",
      "Model setup complete.\n",
      "\n"
     ]
    },
    {
     "name": "stderr",
     "output_type": "stream",
     "text": [
      "/Users/frederiklarsen/dcegm/src/dcegm/solve.py:359: UserWarning: Explicitly requested dtype <class 'jax.numpy.float64'> requested in full is not available, and will be truncated to dtype float32. To enable more dtypes, set the jax_enable_x64 configuration option or the JAX_ENABLE_X64 shell environment variable. See https://github.com/jax-ml/jax#current-gotchas for more.\n",
      "  value_solved = jnp.full(\n",
      "/Users/frederiklarsen/dcegm/src/dcegm/solve.py:364: UserWarning: Explicitly requested dtype <class 'jax.numpy.float64'> requested in full is not available, and will be truncated to dtype float32. To enable more dtypes, set the jax_enable_x64 configuration option or the JAX_ENABLE_X64 shell environment variable. See https://github.com/jax-ml/jax#current-gotchas for more.\n",
      "  policy_solved = jnp.full(\n",
      "/Users/frederiklarsen/dcegm/src/dcegm/solve.py:369: UserWarning: Explicitly requested dtype <class 'jax.numpy.float64'> requested in full is not available, and will be truncated to dtype float32. To enable more dtypes, set the jax_enable_x64 configuration option or the JAX_ENABLE_X64 shell environment variable. See https://github.com/jax-ml/jax#current-gotchas for more.\n",
      "  endog_grid_solved = jnp.full(\n"
     ]
    },
    {
     "ename": "TypeError",
     "evalue": "only integer scalar arrays can be converted to a scalar index",
     "output_type": "error",
     "traceback": [
      "\u001b[0;31m---------------------------------------------------------------------------\u001b[0m",
      "\u001b[0;31mTypeError\u001b[0m                                 Traceback (most recent call last)",
      "Cell \u001b[0;32mIn[46], line 36\u001b[0m\n\u001b[1;32m     28\u001b[0m     df_aux \u001b[38;5;241m=\u001b[39m create_simulation_df(output_dict_aux[\u001b[38;5;124m\"\u001b[39m\u001b[38;5;124msim_dict\u001b[39m\u001b[38;5;124m\"\u001b[39m])\n\u001b[1;32m     29\u001b[0m     \u001b[38;5;66;03m# # First check that income is in df_aux columns\u001b[39;00m\n\u001b[1;32m     30\u001b[0m     \u001b[38;5;66;03m#assert \"income\" in df_aux.columns\u001b[39;00m\n\u001b[1;32m     31\u001b[0m \n\u001b[1;32m     32\u001b[0m     \u001b[38;5;66;03m# Now drop the column and check that the rest is exactly the same\u001b[39;00m\n\u001b[1;32m     33\u001b[0m     \u001b[38;5;66;03m#df_aux = df_aux.drop(columns=[\"income\"])\u001b[39;00m\n\u001b[1;32m     34\u001b[0m     \u001b[38;5;66;03m#assert df_aux.equals(df_without_aux)\u001b[39;00m\n\u001b[0;32m---> 36\u001b[0m \u001b[43mtest_sim_and_sol_model\u001b[49m\u001b[43m(\u001b[49m\u001b[43moptions\u001b[49m\u001b[43m)\u001b[49m\n",
      "Cell \u001b[0;32mIn[46], line 27\u001b[0m, in \u001b[0;36mtest_sim_and_sol_model\u001b[0;34m(options)\u001b[0m\n\u001b[1;32m     18\u001b[0m seed \u001b[38;5;241m=\u001b[39m \u001b[38;5;241m132\u001b[39m\n\u001b[1;32m     20\u001b[0m sim_func_aux \u001b[38;5;241m=\u001b[39m get_sol_and_sim_func_for_model(\n\u001b[1;32m     21\u001b[0m     model\u001b[38;5;241m=\u001b[39mmodel_with_aux,\n\u001b[1;32m     22\u001b[0m     states_initial\u001b[38;5;241m=\u001b[39mstates_initial,\n\u001b[0;32m   (...)\u001b[0m\n\u001b[1;32m     25\u001b[0m     seed\u001b[38;5;241m=\u001b[39mseed,\n\u001b[1;32m     26\u001b[0m )\n\u001b[0;32m---> 27\u001b[0m output_dict_aux \u001b[38;5;241m=\u001b[39m \u001b[43msim_func_aux\u001b[49m\u001b[43m(\u001b[49m\u001b[43mparams\u001b[49m\u001b[43m)\u001b[49m\n\u001b[1;32m     28\u001b[0m df_aux \u001b[38;5;241m=\u001b[39m create_simulation_df(output_dict_aux[\u001b[38;5;124m\"\u001b[39m\u001b[38;5;124msim_dict\u001b[39m\u001b[38;5;124m\"\u001b[39m])\n",
      "    \u001b[0;31m[... skipping hidden 11 frame]\u001b[0m\n",
      "File \u001b[0;32m~/dcegm/src/dcegm/sim_interface.py:28\u001b[0m, in \u001b[0;36mget_sol_and_sim_func_for_model.<locals>.solve_sim_func\u001b[0;34m(params)\u001b[0m\n\u001b[1;32m     26\u001b[0m \u001b[38;5;28;01mdef\u001b[39;00m\u001b[38;5;250m \u001b[39m\u001b[38;5;21msolve_sim_func\u001b[39m(params):\n\u001b[0;32m---> 28\u001b[0m     (value_solved, policy_solved, endog_grid_solved) \u001b[38;5;241m=\u001b[39m \u001b[43msolve_func\u001b[49m\u001b[43m(\u001b[49m\u001b[43mparams\u001b[49m\u001b[38;5;241;43m=\u001b[39;49m\u001b[43mparams\u001b[49m\u001b[43m)\u001b[49m\n\u001b[1;32m     30\u001b[0m     sim_dict \u001b[38;5;241m=\u001b[39m sim_func(\n\u001b[1;32m     31\u001b[0m         params\u001b[38;5;241m=\u001b[39mparams,\n\u001b[1;32m     32\u001b[0m         value\u001b[38;5;241m=\u001b[39mvalue_solved,\n\u001b[1;32m     33\u001b[0m         policy\u001b[38;5;241m=\u001b[39mpolicy_solved,\n\u001b[1;32m     34\u001b[0m         endog_gid\u001b[38;5;241m=\u001b[39mendog_grid_solved,\n\u001b[1;32m     35\u001b[0m     )\n\u001b[1;32m     37\u001b[0m     out \u001b[38;5;241m=\u001b[39m {\n\u001b[1;32m     38\u001b[0m         \u001b[38;5;124m\"\u001b[39m\u001b[38;5;124msim_dict\u001b[39m\u001b[38;5;124m\"\u001b[39m: sim_dict,\n\u001b[1;32m     39\u001b[0m         \u001b[38;5;124m\"\u001b[39m\u001b[38;5;124mvalue\u001b[39m\u001b[38;5;124m\"\u001b[39m: value_solved,\n\u001b[1;32m     40\u001b[0m         \u001b[38;5;124m\"\u001b[39m\u001b[38;5;124mpolicy\u001b[39m\u001b[38;5;124m\"\u001b[39m: policy_solved,\n\u001b[1;32m     41\u001b[0m         \u001b[38;5;124m\"\u001b[39m\u001b[38;5;124mendog_grid\u001b[39m\u001b[38;5;124m\"\u001b[39m: endog_grid_solved,\n\u001b[1;32m     42\u001b[0m     }\n",
      "File \u001b[0;32m~/dcegm/src/dcegm/solve.py:140\u001b[0m, in \u001b[0;36mget_solve_func_for_model.<locals>.solve_func\u001b[0;34m(params)\u001b[0m\n\u001b[1;32m    138\u001b[0m \u001b[38;5;28;01mdef\u001b[39;00m\u001b[38;5;250m \u001b[39m\u001b[38;5;21msolve_func\u001b[39m(params):\n\u001b[1;32m    139\u001b[0m     params_initial \u001b[38;5;241m=\u001b[39m process_params(params)\n\u001b[0;32m--> 140\u001b[0m     \u001b[38;5;28;01mreturn\u001b[39;00m \u001b[43mbackward_jit\u001b[49m\u001b[43m(\u001b[49m\u001b[43mparams\u001b[49m\u001b[38;5;241;43m=\u001b[39;49m\u001b[43mparams_initial\u001b[49m\u001b[43m)\u001b[49m\n",
      "    \u001b[0;31m[... skipping hidden 11 frame]\u001b[0m\n",
      "File \u001b[0;32m~/dcegm/src/dcegm/solve.py:247\u001b[0m, in \u001b[0;36mbackward_induction\u001b[0;34m(params, options, has_second_continuous_state, exog_grids, state_space_dict, n_state_choices, batch_info, income_shock_draws_unscaled, income_shock_weights, model_funcs)\u001b[0m\n\u001b[1;32m    230\u001b[0m (\n\u001b[1;32m    231\u001b[0m     value_solved,\n\u001b[1;32m    232\u001b[0m     policy_solved,\n\u001b[0;32m   (...)\u001b[0m\n\u001b[1;32m    237\u001b[0m     has_second_continuous_state\u001b[38;5;241m=\u001b[39mhas_second_continuous_state,\n\u001b[1;32m    238\u001b[0m )\n\u001b[1;32m    240\u001b[0m \u001b[38;5;66;03m# Solve the last two periods. We do this separately as the marginal utility of\u001b[39;00m\n\u001b[1;32m    241\u001b[0m \u001b[38;5;66;03m# the child states in the last period is calculated from the marginal utility\u001b[39;00m\n\u001b[1;32m    242\u001b[0m \u001b[38;5;66;03m# function of the bequest function, which might differ.\u001b[39;00m\n\u001b[1;32m    243\u001b[0m (\n\u001b[1;32m    244\u001b[0m     value_solved,\n\u001b[1;32m    245\u001b[0m     policy_solved,\n\u001b[1;32m    246\u001b[0m     endog_grid_solved,\n\u001b[0;32m--> 247\u001b[0m ) \u001b[38;5;241m=\u001b[39m \u001b[43msolve_last_two_periods\u001b[49m\u001b[43m(\u001b[49m\n\u001b[1;32m    248\u001b[0m \u001b[43m    \u001b[49m\u001b[43mcont_grids_next_period\u001b[49m\u001b[38;5;241;43m=\u001b[39;49m\u001b[43mcont_grids_next_period\u001b[49m\u001b[43m,\u001b[49m\n\u001b[1;32m    249\u001b[0m \u001b[43m    \u001b[49m\u001b[43mparams\u001b[49m\u001b[38;5;241;43m=\u001b[39;49m\u001b[43mparams\u001b[49m\u001b[43m,\u001b[49m\n\u001b[1;32m    250\u001b[0m \u001b[43m    \u001b[49m\u001b[43mtaste_shock_scale\u001b[49m\u001b[38;5;241;43m=\u001b[39;49m\u001b[43mtaste_shock_scale\u001b[49m\u001b[43m,\u001b[49m\n\u001b[1;32m    251\u001b[0m \u001b[43m    \u001b[49m\u001b[43mincome_shock_weights\u001b[49m\u001b[38;5;241;43m=\u001b[39;49m\u001b[43mincome_shock_weights\u001b[49m\u001b[43m,\u001b[49m\n\u001b[1;32m    252\u001b[0m \u001b[43m    \u001b[49m\u001b[43mexog_grids\u001b[49m\u001b[38;5;241;43m=\u001b[39;49m\u001b[43mexog_grids\u001b[49m\u001b[43m,\u001b[49m\n\u001b[1;32m    253\u001b[0m \u001b[43m    \u001b[49m\u001b[43mmodel_funcs\u001b[49m\u001b[38;5;241;43m=\u001b[39;49m\u001b[43mmodel_funcs\u001b[49m\u001b[43m,\u001b[49m\n\u001b[1;32m    254\u001b[0m \u001b[43m    \u001b[49m\u001b[43mlast_two_period_batch_info\u001b[49m\u001b[38;5;241;43m=\u001b[39;49m\u001b[43mbatch_info\u001b[49m\u001b[43m[\u001b[49m\u001b[38;5;124;43m\"\u001b[39;49m\u001b[38;5;124;43mlast_two_period_info\u001b[39;49m\u001b[38;5;124;43m\"\u001b[39;49m\u001b[43m]\u001b[49m\u001b[43m,\u001b[49m\n\u001b[1;32m    255\u001b[0m \u001b[43m    \u001b[49m\u001b[43mvalue_solved\u001b[49m\u001b[38;5;241;43m=\u001b[39;49m\u001b[43mvalue_solved\u001b[49m\u001b[43m,\u001b[49m\n\u001b[1;32m    256\u001b[0m \u001b[43m    \u001b[49m\u001b[43mpolicy_solved\u001b[49m\u001b[38;5;241;43m=\u001b[39;49m\u001b[43mpolicy_solved\u001b[49m\u001b[43m,\u001b[49m\n\u001b[1;32m    257\u001b[0m \u001b[43m    \u001b[49m\u001b[43mendog_grid_solved\u001b[49m\u001b[38;5;241;43m=\u001b[39;49m\u001b[43mendog_grid_solved\u001b[49m\u001b[43m,\u001b[49m\n\u001b[1;32m    258\u001b[0m \u001b[43m    \u001b[49m\u001b[43mhas_second_continuous_state\u001b[49m\u001b[38;5;241;43m=\u001b[39;49m\u001b[43mhas_second_continuous_state\u001b[49m\u001b[43m,\u001b[49m\n\u001b[1;32m    259\u001b[0m \u001b[43m\u001b[49m\u001b[43m)\u001b[49m\n\u001b[1;32m    261\u001b[0m \u001b[38;5;66;03m# If it is a two period model we are done.\u001b[39;00m\n\u001b[1;32m    262\u001b[0m \u001b[38;5;28;01mif\u001b[39;00m batch_info[\u001b[38;5;124m\"\u001b[39m\u001b[38;5;124mtwo_period_model\u001b[39m\u001b[38;5;124m\"\u001b[39m]:\n",
      "File \u001b[0;32m~/dcegm/src/dcegm/final_periods.py:58\u001b[0m, in \u001b[0;36msolve_last_two_periods\u001b[0;34m(cont_grids_next_period, params, taste_shock_scale, income_shock_weights, exog_grids, model_funcs, last_two_period_batch_info, value_solved, policy_solved, endog_grid_solved, has_second_continuous_state)\u001b[0m\n\u001b[1;32m     14\u001b[0m \u001b[38;5;28;01mdef\u001b[39;00m\u001b[38;5;250m \u001b[39m\u001b[38;5;21msolve_last_two_periods\u001b[39m(\n\u001b[1;32m     15\u001b[0m     cont_grids_next_period: Dict[\u001b[38;5;28mstr\u001b[39m, jnp\u001b[38;5;241m.\u001b[39mndarray],\n\u001b[1;32m     16\u001b[0m     params: Dict[\u001b[38;5;28mstr\u001b[39m, \u001b[38;5;28mfloat\u001b[39m],\n\u001b[0;32m   (...)\u001b[0m\n\u001b[1;32m     25\u001b[0m     has_second_continuous_state: \u001b[38;5;28mbool\u001b[39m,\n\u001b[1;32m     26\u001b[0m ):\n\u001b[1;32m     27\u001b[0m \u001b[38;5;250m    \u001b[39m\u001b[38;5;124;03m\"\"\"Solves the last two periods of the model.\u001b[39;00m\n\u001b[1;32m     28\u001b[0m \n\u001b[1;32m     29\u001b[0m \u001b[38;5;124;03m    The last two periods are solved using the EGM algorithm. The last period is\u001b[39;00m\n\u001b[0;32m   (...)\u001b[0m\n\u001b[1;32m     50\u001b[0m \n\u001b[1;32m     51\u001b[0m \u001b[38;5;124;03m    \"\"\"\u001b[39;00m\n\u001b[1;32m     52\u001b[0m     (\n\u001b[1;32m     53\u001b[0m         value_solved,\n\u001b[1;32m     54\u001b[0m         policy_solved,\n\u001b[1;32m     55\u001b[0m         endog_grid_solved,\n\u001b[1;32m     56\u001b[0m         value_interp_final_period,\n\u001b[1;32m     57\u001b[0m         marginal_utility_final_last_period,\n\u001b[0;32m---> 58\u001b[0m     ) \u001b[38;5;241m=\u001b[39m \u001b[43msolve_final_period\u001b[49m\u001b[43m(\u001b[49m\n\u001b[1;32m     59\u001b[0m \u001b[43m        \u001b[49m\u001b[43midx_state_choices_final_period\u001b[49m\u001b[38;5;241;43m=\u001b[39;49m\u001b[43mlast_two_period_batch_info\u001b[49m\u001b[43m[\u001b[49m\n\u001b[1;32m     60\u001b[0m \u001b[43m            \u001b[49m\u001b[38;5;124;43m\"\u001b[39;49m\u001b[38;5;124;43midx_state_choices_final_period\u001b[39;49m\u001b[38;5;124;43m\"\u001b[39;49m\n\u001b[1;32m     61\u001b[0m \u001b[43m        \u001b[49m\u001b[43m]\u001b[49m\u001b[43m,\u001b[49m\n\u001b[1;32m     62\u001b[0m \u001b[43m        \u001b[49m\u001b[43midx_parent_states_final_period\u001b[49m\u001b[38;5;241;43m=\u001b[39;49m\u001b[43mlast_two_period_batch_info\u001b[49m\u001b[43m[\u001b[49m\n\u001b[1;32m     63\u001b[0m \u001b[43m            \u001b[49m\u001b[38;5;124;43m\"\u001b[39;49m\u001b[38;5;124;43midxs_parent_states_final_period\u001b[39;49m\u001b[38;5;124;43m\"\u001b[39;49m\n\u001b[1;32m     64\u001b[0m \u001b[43m        \u001b[49m\u001b[43m]\u001b[49m\u001b[43m,\u001b[49m\n\u001b[1;32m     65\u001b[0m \u001b[43m        \u001b[49m\u001b[43mstate_choice_mat_final_period\u001b[49m\u001b[38;5;241;43m=\u001b[39;49m\u001b[43mlast_two_period_batch_info\u001b[49m\u001b[43m[\u001b[49m\n\u001b[1;32m     66\u001b[0m \u001b[43m            \u001b[49m\u001b[38;5;124;43m\"\u001b[39;49m\u001b[38;5;124;43mstate_choice_mat_final_period\u001b[39;49m\u001b[38;5;124;43m\"\u001b[39;49m\n\u001b[1;32m     67\u001b[0m \u001b[43m        \u001b[49m\u001b[43m]\u001b[49m\u001b[43m,\u001b[49m\n\u001b[1;32m     68\u001b[0m \u001b[43m        \u001b[49m\u001b[43mcont_grids_next_period\u001b[49m\u001b[38;5;241;43m=\u001b[39;49m\u001b[43mcont_grids_next_period\u001b[49m\u001b[43m,\u001b[49m\n\u001b[1;32m     69\u001b[0m \u001b[43m        \u001b[49m\u001b[43mexog_grids\u001b[49m\u001b[38;5;241;43m=\u001b[39;49m\u001b[43mexog_grids\u001b[49m\u001b[43m,\u001b[49m\n\u001b[1;32m     70\u001b[0m \u001b[43m        \u001b[49m\u001b[43mparams\u001b[49m\u001b[38;5;241;43m=\u001b[39;49m\u001b[43mparams\u001b[49m\u001b[43m,\u001b[49m\n\u001b[1;32m     71\u001b[0m \u001b[43m        \u001b[49m\u001b[43mmodel_funcs\u001b[49m\u001b[38;5;241;43m=\u001b[39;49m\u001b[43mmodel_funcs\u001b[49m\u001b[43m,\u001b[49m\n\u001b[1;32m     72\u001b[0m \u001b[43m        \u001b[49m\u001b[43mvalue_solved\u001b[49m\u001b[38;5;241;43m=\u001b[39;49m\u001b[43mvalue_solved\u001b[49m\u001b[43m,\u001b[49m\n\u001b[1;32m     73\u001b[0m \u001b[43m        \u001b[49m\u001b[43mpolicy_solved\u001b[49m\u001b[38;5;241;43m=\u001b[39;49m\u001b[43mpolicy_solved\u001b[49m\u001b[43m,\u001b[49m\n\u001b[1;32m     74\u001b[0m \u001b[43m        \u001b[49m\u001b[43mendog_grid_solved\u001b[49m\u001b[38;5;241;43m=\u001b[39;49m\u001b[43mendog_grid_solved\u001b[49m\u001b[43m,\u001b[49m\n\u001b[1;32m     75\u001b[0m \u001b[43m        \u001b[49m\u001b[43mhas_second_continuous_state\u001b[49m\u001b[38;5;241;43m=\u001b[39;49m\u001b[43mhas_second_continuous_state\u001b[49m\u001b[43m,\u001b[49m\n\u001b[1;32m     76\u001b[0m \u001b[43m    \u001b[49m\u001b[43m)\u001b[49m\n\u001b[1;32m     78\u001b[0m     endog_grid, policy, value \u001b[38;5;241m=\u001b[39m solve_for_interpolated_values(\n\u001b[1;32m     79\u001b[0m         value_interpolated\u001b[38;5;241m=\u001b[39mvalue_interp_final_period,\n\u001b[1;32m     80\u001b[0m         marginal_utility_interpolated\u001b[38;5;241m=\u001b[39mmarginal_utility_final_last_period,\n\u001b[0;32m   (...)\u001b[0m\n\u001b[1;32m     93\u001b[0m         has_second_continuous_state\u001b[38;5;241m=\u001b[39mhas_second_continuous_state,\n\u001b[1;32m     94\u001b[0m     )\n\u001b[1;32m     96\u001b[0m     idx_second_last \u001b[38;5;241m=\u001b[39m last_two_period_batch_info[\u001b[38;5;124m\"\u001b[39m\u001b[38;5;124midx_state_choices_second_last_period\u001b[39m\u001b[38;5;124m\"\u001b[39m]\n",
      "File \u001b[0;32m~/dcegm/src/dcegm/final_periods.py:170\u001b[0m, in \u001b[0;36msolve_final_period\u001b[0;34m(idx_state_choices_final_period, idx_parent_states_final_period, state_choice_mat_final_period, cont_grids_next_period, exog_grids, params, model_funcs, value_solved, policy_solved, endog_grid_solved, has_second_continuous_state)\u001b[0m\n\u001b[1;32m    145\u001b[0m     (\n\u001b[1;32m    146\u001b[0m         value_solved,\n\u001b[1;32m    147\u001b[0m         policy_solved,\n\u001b[0;32m   (...)\u001b[0m\n\u001b[1;32m    161\u001b[0m         endog_grid_solved\u001b[38;5;241m=\u001b[39mendog_grid_solved,\n\u001b[1;32m    162\u001b[0m     )\n\u001b[1;32m    163\u001b[0m \u001b[38;5;28;01melse\u001b[39;00m:\n\u001b[1;32m    164\u001b[0m     (\n\u001b[1;32m    165\u001b[0m         value_solved,\n\u001b[1;32m    166\u001b[0m         policy_solved,\n\u001b[1;32m    167\u001b[0m         endog_grid_solved,\n\u001b[1;32m    168\u001b[0m         value,\n\u001b[1;32m    169\u001b[0m         marg_util,\n\u001b[0;32m--> 170\u001b[0m     ) \u001b[38;5;241m=\u001b[39m \u001b[43msolve_final_period_discrete\u001b[49m\u001b[43m(\u001b[49m\n\u001b[1;32m    171\u001b[0m \u001b[43m        \u001b[49m\u001b[43midx_state_choices_final_period\u001b[49m\u001b[38;5;241;43m=\u001b[39;49m\u001b[43midx_state_choices_final_period\u001b[49m\u001b[43m,\u001b[49m\n\u001b[1;32m    172\u001b[0m \u001b[43m        \u001b[49m\u001b[43midx_parent_states_final_period\u001b[49m\u001b[38;5;241;43m=\u001b[39;49m\u001b[43midx_parent_states_final_period\u001b[49m\u001b[43m,\u001b[49m\n\u001b[1;32m    173\u001b[0m \u001b[43m        \u001b[49m\u001b[43mstate_choice_mat_final_period\u001b[49m\u001b[38;5;241;43m=\u001b[39;49m\u001b[43mstate_choice_mat_final_period\u001b[49m\u001b[43m,\u001b[49m\n\u001b[1;32m    174\u001b[0m \u001b[43m        \u001b[49m\u001b[43mcont_grids_next_period\u001b[49m\u001b[38;5;241;43m=\u001b[39;49m\u001b[43mcont_grids_next_period\u001b[49m\u001b[43m,\u001b[49m\n\u001b[1;32m    175\u001b[0m \u001b[43m        \u001b[49m\u001b[43mexog_grids\u001b[49m\u001b[38;5;241;43m=\u001b[39;49m\u001b[43mexog_grids\u001b[49m\u001b[43m,\u001b[49m\n\u001b[1;32m    176\u001b[0m \u001b[43m        \u001b[49m\u001b[43mparams\u001b[49m\u001b[38;5;241;43m=\u001b[39;49m\u001b[43mparams\u001b[49m\u001b[43m,\u001b[49m\n\u001b[1;32m    177\u001b[0m \u001b[43m        \u001b[49m\u001b[43mcompute_utility\u001b[49m\u001b[38;5;241;43m=\u001b[39;49m\u001b[43mmodel_funcs\u001b[49m\u001b[43m[\u001b[49m\u001b[38;5;124;43m\"\u001b[39;49m\u001b[38;5;124;43mcompute_utility_final\u001b[39;49m\u001b[38;5;124;43m\"\u001b[39;49m\u001b[43m]\u001b[49m\u001b[43m,\u001b[49m\n\u001b[1;32m    178\u001b[0m \u001b[43m        \u001b[49m\u001b[43mcompute_marginal_utility\u001b[49m\u001b[38;5;241;43m=\u001b[39;49m\u001b[43mmodel_funcs\u001b[49m\u001b[43m[\u001b[49m\u001b[38;5;124;43m\"\u001b[39;49m\u001b[38;5;124;43mcompute_marginal_utility_final\u001b[39;49m\u001b[38;5;124;43m\"\u001b[39;49m\u001b[43m]\u001b[49m\u001b[43m,\u001b[49m\n\u001b[1;32m    179\u001b[0m \u001b[43m        \u001b[49m\u001b[43mvalue_solved\u001b[49m\u001b[38;5;241;43m=\u001b[39;49m\u001b[43mvalue_solved\u001b[49m\u001b[43m,\u001b[49m\n\u001b[1;32m    180\u001b[0m \u001b[43m        \u001b[49m\u001b[43mpolicy_solved\u001b[49m\u001b[38;5;241;43m=\u001b[39;49m\u001b[43mpolicy_solved\u001b[49m\u001b[43m,\u001b[49m\n\u001b[1;32m    181\u001b[0m \u001b[43m        \u001b[49m\u001b[43mendog_grid_solved\u001b[49m\u001b[38;5;241;43m=\u001b[39;49m\u001b[43mendog_grid_solved\u001b[49m\u001b[43m,\u001b[49m\n\u001b[1;32m    182\u001b[0m \u001b[43m    \u001b[49m\u001b[43m)\u001b[49m\n\u001b[1;32m    184\u001b[0m \u001b[38;5;28;01mreturn\u001b[39;00m (\n\u001b[1;32m    185\u001b[0m     value_solved,\n\u001b[1;32m    186\u001b[0m     policy_solved,\n\u001b[0;32m   (...)\u001b[0m\n\u001b[1;32m    189\u001b[0m     marg_util,\n\u001b[1;32m    190\u001b[0m )\n",
      "File \u001b[0;32m~/dcegm/src/dcegm/final_periods.py:218\u001b[0m, in \u001b[0;36msolve_final_period_discrete\u001b[0;34m(idx_state_choices_final_period, idx_parent_states_final_period, state_choice_mat_final_period, cont_grids_next_period, exog_grids, params, compute_utility, compute_marginal_utility, value_solved, policy_solved, endog_grid_solved)\u001b[0m\n\u001b[1;32m    198\u001b[0m \u001b[38;5;28;01mdef\u001b[39;00m\u001b[38;5;250m \u001b[39m\u001b[38;5;21msolve_final_period_discrete\u001b[39m(\n\u001b[1;32m    199\u001b[0m     idx_state_choices_final_period,\n\u001b[1;32m    200\u001b[0m     idx_parent_states_final_period,\n\u001b[0;32m   (...)\u001b[0m\n\u001b[1;32m    209\u001b[0m     endog_grid_solved,\n\u001b[1;32m    210\u001b[0m ):\n\u001b[1;32m    211\u001b[0m \u001b[38;5;250m    \u001b[39m\u001b[38;5;124;03m\"\"\"Solve final period for only discrete states.\u001b[39;00m\n\u001b[1;32m    212\u001b[0m \n\u001b[1;32m    213\u001b[0m \u001b[38;5;124;03m    Here we make use a trick to solve the final period directly at the wealth gridpoints\u001b[39;00m\n\u001b[0;32m   (...)\u001b[0m\n\u001b[1;32m    216\u001b[0m \n\u001b[1;32m    217\u001b[0m \u001b[38;5;124;03m    \"\"\"\u001b[39;00m\n\u001b[0;32m--> 218\u001b[0m     wealth_child_states_final_period \u001b[38;5;241m=\u001b[39m \u001b[43mcont_grids_next_period\u001b[49m\u001b[43m[\u001b[49m\u001b[38;5;124;43m\"\u001b[39;49m\u001b[38;5;124;43mwealth\u001b[39;49m\u001b[38;5;124;43m\"\u001b[39;49m\u001b[43m]\u001b[49m\u001b[43m[\u001b[49m\n\u001b[1;32m    219\u001b[0m \u001b[43m        \u001b[49m\u001b[43midx_parent_states_final_period\u001b[49m\n\u001b[1;32m    220\u001b[0m \u001b[43m    \u001b[49m\u001b[43m]\u001b[49m\n\u001b[1;32m    221\u001b[0m     n_wealth \u001b[38;5;241m=\u001b[39m exog_grids[\u001b[38;5;124m\"\u001b[39m\u001b[38;5;124mwealth\u001b[39m\u001b[38;5;124m\"\u001b[39m]\u001b[38;5;241m.\u001b[39mshape[\u001b[38;5;241m0\u001b[39m]\n\u001b[1;32m    223\u001b[0m     value, marg_util \u001b[38;5;241m=\u001b[39m vmap(\n\u001b[1;32m    224\u001b[0m         vmap(\n\u001b[1;32m    225\u001b[0m             vmap(\n\u001b[0;32m   (...)\u001b[0m\n\u001b[1;32m    237\u001b[0m         compute_marginal_utility,\n\u001b[1;32m    238\u001b[0m     )\n",
      "\u001b[0;31mTypeError\u001b[0m: only integer scalar arrays can be converted to a scalar index"
     ]
    }
   ],
   "source": [
    "def test_sim_and_sol_model(options):\n",
    "    \n",
    "    model_with_aux = setup_model(\n",
    "        options=options,\n",
    "        utility_functions=utility_functions,\n",
    "        utility_functions_final_period=final_period_utility,\n",
    "        budget_constraint=budget_with_aux,\n",
    "    )\n",
    "\n",
    "    \n",
    "    n_agents = 1_000\n",
    "\n",
    "    states_initial = {\n",
    "        \"period\": jnp.zeros(n_agents, dtype=jnp.int32),       # Every individual mins at period 0 (age 30)\n",
    "        \"lagged_choice\": jnp.full(n_agents, 3, dtype=jnp.int32),  # Every individual starts with choice 3 (work fulltime)\n",
    "    }\n",
    "    n_periods = options[\"state_space\"][\"n_periods\"]\n",
    "    seed = 132\n",
    "\n",
    "\n",
    "    df_aux = create_simulation_df(output_dict_aux[\"sim_dict\"])\n",
    "    # # First check that income is in df_aux columns\n",
    "    #assert \"income\" in df_aux.columns\n",
    "\n",
    "    # Now drop the column and check that the rest is exactly the same\n",
    "    #df_aux = df_aux.drop(columns=[\"income\"])\n",
    "    #assert df_aux.equals(df_without_aux)\n",
    "\n",
    "test_sim_and_sol_model(options)"
   ]
  },
  {
   "cell_type": "code",
   "execution_count": 49,
   "metadata": {},
   "outputs": [
    {
     "name": "stdout",
     "output_type": "stream",
     "text": [
      "State specific choice set not provided. Assume all choices are available in every state.\n",
      "Update function for state space not given. Assume states only change with an increase of the period and lagged choice.\n",
      "Sparsity condition not provided. Assume all states are valid.\n",
      "Starting state space creation\n",
      "State space created.\n",
      "\n",
      "Starting state-choice space creation and child state mapping.\n",
      "State, state-choice and child state mapping created.\n",
      "\n",
      "Start creating batches for the model.\n",
      "The batch size of the backwards induction is  16\n",
      "Model setup complete.\n",
      "\n"
     ]
    }
   ],
   "source": [
    "model = setup_model(\n",
    "    options=options,\n",
    "    utility_functions=utility_functions,\n",
    "    utility_functions_final_period=final_period_utility,\n",
    "    budget_constraint=budget_dcegm,\n",
    ")"
   ]
  },
  {
   "cell_type": "code",
   "execution_count": 50,
   "metadata": {},
   "outputs": [],
   "source": [
    "solve_func = get_solve_func_for_model(model)"
   ]
  },
  {
   "cell_type": "code",
   "execution_count": 51,
   "metadata": {},
   "outputs": [
    {
     "name": "stderr",
     "output_type": "stream",
     "text": [
      "/Users/frederiklarsen/dcegm/src/dcegm/solve.py:359: UserWarning: Explicitly requested dtype <class 'jax.numpy.float64'> requested in full is not available, and will be truncated to dtype float32. To enable more dtypes, set the jax_enable_x64 configuration option or the JAX_ENABLE_X64 shell environment variable. See https://github.com/jax-ml/jax#current-gotchas for more.\n",
      "  value_solved = jnp.full(\n",
      "/Users/frederiklarsen/dcegm/src/dcegm/solve.py:364: UserWarning: Explicitly requested dtype <class 'jax.numpy.float64'> requested in full is not available, and will be truncated to dtype float32. To enable more dtypes, set the jax_enable_x64 configuration option or the JAX_ENABLE_X64 shell environment variable. See https://github.com/jax-ml/jax#current-gotchas for more.\n",
      "  policy_solved = jnp.full(\n",
      "/Users/frederiklarsen/dcegm/src/dcegm/solve.py:369: UserWarning: Explicitly requested dtype <class 'jax.numpy.float64'> requested in full is not available, and will be truncated to dtype float32. To enable more dtypes, set the jax_enable_x64 configuration option or the JAX_ENABLE_X64 shell environment variable. See https://github.com/jax-ml/jax#current-gotchas for more.\n",
      "  endog_grid_solved = jnp.full(\n"
     ]
    },
    {
     "ename": "TypeError",
     "evalue": "only integer scalar arrays can be converted to a scalar index",
     "output_type": "error",
     "traceback": [
      "\u001b[0;31m---------------------------------------------------------------------------\u001b[0m",
      "\u001b[0;31mTypeError\u001b[0m                                 Traceback (most recent call last)",
      "Cell \u001b[0;32mIn[51], line 1\u001b[0m\n\u001b[0;32m----> 1\u001b[0m value_solved, policy_solved, endog_grid_solved \u001b[38;5;241m=\u001b[39m \u001b[43msolve_func\u001b[49m\u001b[43m(\u001b[49m\u001b[43mparams\u001b[49m\u001b[43m)\u001b[49m\n\u001b[1;32m      2\u001b[0m \u001b[38;5;28mprint\u001b[39m(value_solved)\n",
      "File \u001b[0;32m~/dcegm/src/dcegm/solve.py:140\u001b[0m, in \u001b[0;36mget_solve_func_for_model.<locals>.solve_func\u001b[0;34m(params)\u001b[0m\n\u001b[1;32m    138\u001b[0m \u001b[38;5;28;01mdef\u001b[39;00m\u001b[38;5;250m \u001b[39m\u001b[38;5;21msolve_func\u001b[39m(params):\n\u001b[1;32m    139\u001b[0m     params_initial \u001b[38;5;241m=\u001b[39m process_params(params)\n\u001b[0;32m--> 140\u001b[0m     \u001b[38;5;28;01mreturn\u001b[39;00m \u001b[43mbackward_jit\u001b[49m\u001b[43m(\u001b[49m\u001b[43mparams\u001b[49m\u001b[38;5;241;43m=\u001b[39;49m\u001b[43mparams_initial\u001b[49m\u001b[43m)\u001b[49m\n",
      "    \u001b[0;31m[... skipping hidden 11 frame]\u001b[0m\n",
      "File \u001b[0;32m~/dcegm/src/dcegm/solve.py:247\u001b[0m, in \u001b[0;36mbackward_induction\u001b[0;34m(params, options, has_second_continuous_state, exog_grids, state_space_dict, n_state_choices, batch_info, income_shock_draws_unscaled, income_shock_weights, model_funcs)\u001b[0m\n\u001b[1;32m    230\u001b[0m (\n\u001b[1;32m    231\u001b[0m     value_solved,\n\u001b[1;32m    232\u001b[0m     policy_solved,\n\u001b[0;32m   (...)\u001b[0m\n\u001b[1;32m    237\u001b[0m     has_second_continuous_state\u001b[38;5;241m=\u001b[39mhas_second_continuous_state,\n\u001b[1;32m    238\u001b[0m )\n\u001b[1;32m    240\u001b[0m \u001b[38;5;66;03m# Solve the last two periods. We do this separately as the marginal utility of\u001b[39;00m\n\u001b[1;32m    241\u001b[0m \u001b[38;5;66;03m# the child states in the last period is calculated from the marginal utility\u001b[39;00m\n\u001b[1;32m    242\u001b[0m \u001b[38;5;66;03m# function of the bequest function, which might differ.\u001b[39;00m\n\u001b[1;32m    243\u001b[0m (\n\u001b[1;32m    244\u001b[0m     value_solved,\n\u001b[1;32m    245\u001b[0m     policy_solved,\n\u001b[1;32m    246\u001b[0m     endog_grid_solved,\n\u001b[0;32m--> 247\u001b[0m ) \u001b[38;5;241m=\u001b[39m \u001b[43msolve_last_two_periods\u001b[49m\u001b[43m(\u001b[49m\n\u001b[1;32m    248\u001b[0m \u001b[43m    \u001b[49m\u001b[43mcont_grids_next_period\u001b[49m\u001b[38;5;241;43m=\u001b[39;49m\u001b[43mcont_grids_next_period\u001b[49m\u001b[43m,\u001b[49m\n\u001b[1;32m    249\u001b[0m \u001b[43m    \u001b[49m\u001b[43mparams\u001b[49m\u001b[38;5;241;43m=\u001b[39;49m\u001b[43mparams\u001b[49m\u001b[43m,\u001b[49m\n\u001b[1;32m    250\u001b[0m \u001b[43m    \u001b[49m\u001b[43mtaste_shock_scale\u001b[49m\u001b[38;5;241;43m=\u001b[39;49m\u001b[43mtaste_shock_scale\u001b[49m\u001b[43m,\u001b[49m\n\u001b[1;32m    251\u001b[0m \u001b[43m    \u001b[49m\u001b[43mincome_shock_weights\u001b[49m\u001b[38;5;241;43m=\u001b[39;49m\u001b[43mincome_shock_weights\u001b[49m\u001b[43m,\u001b[49m\n\u001b[1;32m    252\u001b[0m \u001b[43m    \u001b[49m\u001b[43mexog_grids\u001b[49m\u001b[38;5;241;43m=\u001b[39;49m\u001b[43mexog_grids\u001b[49m\u001b[43m,\u001b[49m\n\u001b[1;32m    253\u001b[0m \u001b[43m    \u001b[49m\u001b[43mmodel_funcs\u001b[49m\u001b[38;5;241;43m=\u001b[39;49m\u001b[43mmodel_funcs\u001b[49m\u001b[43m,\u001b[49m\n\u001b[1;32m    254\u001b[0m \u001b[43m    \u001b[49m\u001b[43mlast_two_period_batch_info\u001b[49m\u001b[38;5;241;43m=\u001b[39;49m\u001b[43mbatch_info\u001b[49m\u001b[43m[\u001b[49m\u001b[38;5;124;43m\"\u001b[39;49m\u001b[38;5;124;43mlast_two_period_info\u001b[39;49m\u001b[38;5;124;43m\"\u001b[39;49m\u001b[43m]\u001b[49m\u001b[43m,\u001b[49m\n\u001b[1;32m    255\u001b[0m \u001b[43m    \u001b[49m\u001b[43mvalue_solved\u001b[49m\u001b[38;5;241;43m=\u001b[39;49m\u001b[43mvalue_solved\u001b[49m\u001b[43m,\u001b[49m\n\u001b[1;32m    256\u001b[0m \u001b[43m    \u001b[49m\u001b[43mpolicy_solved\u001b[49m\u001b[38;5;241;43m=\u001b[39;49m\u001b[43mpolicy_solved\u001b[49m\u001b[43m,\u001b[49m\n\u001b[1;32m    257\u001b[0m \u001b[43m    \u001b[49m\u001b[43mendog_grid_solved\u001b[49m\u001b[38;5;241;43m=\u001b[39;49m\u001b[43mendog_grid_solved\u001b[49m\u001b[43m,\u001b[49m\n\u001b[1;32m    258\u001b[0m \u001b[43m    \u001b[49m\u001b[43mhas_second_continuous_state\u001b[49m\u001b[38;5;241;43m=\u001b[39;49m\u001b[43mhas_second_continuous_state\u001b[49m\u001b[43m,\u001b[49m\n\u001b[1;32m    259\u001b[0m \u001b[43m\u001b[49m\u001b[43m)\u001b[49m\n\u001b[1;32m    261\u001b[0m \u001b[38;5;66;03m# If it is a two period model we are done.\u001b[39;00m\n\u001b[1;32m    262\u001b[0m \u001b[38;5;28;01mif\u001b[39;00m batch_info[\u001b[38;5;124m\"\u001b[39m\u001b[38;5;124mtwo_period_model\u001b[39m\u001b[38;5;124m\"\u001b[39m]:\n",
      "File \u001b[0;32m~/dcegm/src/dcegm/final_periods.py:58\u001b[0m, in \u001b[0;36msolve_last_two_periods\u001b[0;34m(cont_grids_next_period, params, taste_shock_scale, income_shock_weights, exog_grids, model_funcs, last_two_period_batch_info, value_solved, policy_solved, endog_grid_solved, has_second_continuous_state)\u001b[0m\n\u001b[1;32m     14\u001b[0m \u001b[38;5;28;01mdef\u001b[39;00m\u001b[38;5;250m \u001b[39m\u001b[38;5;21msolve_last_two_periods\u001b[39m(\n\u001b[1;32m     15\u001b[0m     cont_grids_next_period: Dict[\u001b[38;5;28mstr\u001b[39m, jnp\u001b[38;5;241m.\u001b[39mndarray],\n\u001b[1;32m     16\u001b[0m     params: Dict[\u001b[38;5;28mstr\u001b[39m, \u001b[38;5;28mfloat\u001b[39m],\n\u001b[0;32m   (...)\u001b[0m\n\u001b[1;32m     25\u001b[0m     has_second_continuous_state: \u001b[38;5;28mbool\u001b[39m,\n\u001b[1;32m     26\u001b[0m ):\n\u001b[1;32m     27\u001b[0m \u001b[38;5;250m    \u001b[39m\u001b[38;5;124;03m\"\"\"Solves the last two periods of the model.\u001b[39;00m\n\u001b[1;32m     28\u001b[0m \n\u001b[1;32m     29\u001b[0m \u001b[38;5;124;03m    The last two periods are solved using the EGM algorithm. The last period is\u001b[39;00m\n\u001b[0;32m   (...)\u001b[0m\n\u001b[1;32m     50\u001b[0m \n\u001b[1;32m     51\u001b[0m \u001b[38;5;124;03m    \"\"\"\u001b[39;00m\n\u001b[1;32m     52\u001b[0m     (\n\u001b[1;32m     53\u001b[0m         value_solved,\n\u001b[1;32m     54\u001b[0m         policy_solved,\n\u001b[1;32m     55\u001b[0m         endog_grid_solved,\n\u001b[1;32m     56\u001b[0m         value_interp_final_period,\n\u001b[1;32m     57\u001b[0m         marginal_utility_final_last_period,\n\u001b[0;32m---> 58\u001b[0m     ) \u001b[38;5;241m=\u001b[39m \u001b[43msolve_final_period\u001b[49m\u001b[43m(\u001b[49m\n\u001b[1;32m     59\u001b[0m \u001b[43m        \u001b[49m\u001b[43midx_state_choices_final_period\u001b[49m\u001b[38;5;241;43m=\u001b[39;49m\u001b[43mlast_two_period_batch_info\u001b[49m\u001b[43m[\u001b[49m\n\u001b[1;32m     60\u001b[0m \u001b[43m            \u001b[49m\u001b[38;5;124;43m\"\u001b[39;49m\u001b[38;5;124;43midx_state_choices_final_period\u001b[39;49m\u001b[38;5;124;43m\"\u001b[39;49m\n\u001b[1;32m     61\u001b[0m \u001b[43m        \u001b[49m\u001b[43m]\u001b[49m\u001b[43m,\u001b[49m\n\u001b[1;32m     62\u001b[0m \u001b[43m        \u001b[49m\u001b[43midx_parent_states_final_period\u001b[49m\u001b[38;5;241;43m=\u001b[39;49m\u001b[43mlast_two_period_batch_info\u001b[49m\u001b[43m[\u001b[49m\n\u001b[1;32m     63\u001b[0m \u001b[43m            \u001b[49m\u001b[38;5;124;43m\"\u001b[39;49m\u001b[38;5;124;43midxs_parent_states_final_period\u001b[39;49m\u001b[38;5;124;43m\"\u001b[39;49m\n\u001b[1;32m     64\u001b[0m \u001b[43m        \u001b[49m\u001b[43m]\u001b[49m\u001b[43m,\u001b[49m\n\u001b[1;32m     65\u001b[0m \u001b[43m        \u001b[49m\u001b[43mstate_choice_mat_final_period\u001b[49m\u001b[38;5;241;43m=\u001b[39;49m\u001b[43mlast_two_period_batch_info\u001b[49m\u001b[43m[\u001b[49m\n\u001b[1;32m     66\u001b[0m \u001b[43m            \u001b[49m\u001b[38;5;124;43m\"\u001b[39;49m\u001b[38;5;124;43mstate_choice_mat_final_period\u001b[39;49m\u001b[38;5;124;43m\"\u001b[39;49m\n\u001b[1;32m     67\u001b[0m \u001b[43m        \u001b[49m\u001b[43m]\u001b[49m\u001b[43m,\u001b[49m\n\u001b[1;32m     68\u001b[0m \u001b[43m        \u001b[49m\u001b[43mcont_grids_next_period\u001b[49m\u001b[38;5;241;43m=\u001b[39;49m\u001b[43mcont_grids_next_period\u001b[49m\u001b[43m,\u001b[49m\n\u001b[1;32m     69\u001b[0m \u001b[43m        \u001b[49m\u001b[43mexog_grids\u001b[49m\u001b[38;5;241;43m=\u001b[39;49m\u001b[43mexog_grids\u001b[49m\u001b[43m,\u001b[49m\n\u001b[1;32m     70\u001b[0m \u001b[43m        \u001b[49m\u001b[43mparams\u001b[49m\u001b[38;5;241;43m=\u001b[39;49m\u001b[43mparams\u001b[49m\u001b[43m,\u001b[49m\n\u001b[1;32m     71\u001b[0m \u001b[43m        \u001b[49m\u001b[43mmodel_funcs\u001b[49m\u001b[38;5;241;43m=\u001b[39;49m\u001b[43mmodel_funcs\u001b[49m\u001b[43m,\u001b[49m\n\u001b[1;32m     72\u001b[0m \u001b[43m        \u001b[49m\u001b[43mvalue_solved\u001b[49m\u001b[38;5;241;43m=\u001b[39;49m\u001b[43mvalue_solved\u001b[49m\u001b[43m,\u001b[49m\n\u001b[1;32m     73\u001b[0m \u001b[43m        \u001b[49m\u001b[43mpolicy_solved\u001b[49m\u001b[38;5;241;43m=\u001b[39;49m\u001b[43mpolicy_solved\u001b[49m\u001b[43m,\u001b[49m\n\u001b[1;32m     74\u001b[0m \u001b[43m        \u001b[49m\u001b[43mendog_grid_solved\u001b[49m\u001b[38;5;241;43m=\u001b[39;49m\u001b[43mendog_grid_solved\u001b[49m\u001b[43m,\u001b[49m\n\u001b[1;32m     75\u001b[0m \u001b[43m        \u001b[49m\u001b[43mhas_second_continuous_state\u001b[49m\u001b[38;5;241;43m=\u001b[39;49m\u001b[43mhas_second_continuous_state\u001b[49m\u001b[43m,\u001b[49m\n\u001b[1;32m     76\u001b[0m \u001b[43m    \u001b[49m\u001b[43m)\u001b[49m\n\u001b[1;32m     78\u001b[0m     endog_grid, policy, value \u001b[38;5;241m=\u001b[39m solve_for_interpolated_values(\n\u001b[1;32m     79\u001b[0m         value_interpolated\u001b[38;5;241m=\u001b[39mvalue_interp_final_period,\n\u001b[1;32m     80\u001b[0m         marginal_utility_interpolated\u001b[38;5;241m=\u001b[39mmarginal_utility_final_last_period,\n\u001b[0;32m   (...)\u001b[0m\n\u001b[1;32m     93\u001b[0m         has_second_continuous_state\u001b[38;5;241m=\u001b[39mhas_second_continuous_state,\n\u001b[1;32m     94\u001b[0m     )\n\u001b[1;32m     96\u001b[0m     idx_second_last \u001b[38;5;241m=\u001b[39m last_two_period_batch_info[\u001b[38;5;124m\"\u001b[39m\u001b[38;5;124midx_state_choices_second_last_period\u001b[39m\u001b[38;5;124m\"\u001b[39m]\n",
      "File \u001b[0;32m~/dcegm/src/dcegm/final_periods.py:170\u001b[0m, in \u001b[0;36msolve_final_period\u001b[0;34m(idx_state_choices_final_period, idx_parent_states_final_period, state_choice_mat_final_period, cont_grids_next_period, exog_grids, params, model_funcs, value_solved, policy_solved, endog_grid_solved, has_second_continuous_state)\u001b[0m\n\u001b[1;32m    145\u001b[0m     (\n\u001b[1;32m    146\u001b[0m         value_solved,\n\u001b[1;32m    147\u001b[0m         policy_solved,\n\u001b[0;32m   (...)\u001b[0m\n\u001b[1;32m    161\u001b[0m         endog_grid_solved\u001b[38;5;241m=\u001b[39mendog_grid_solved,\n\u001b[1;32m    162\u001b[0m     )\n\u001b[1;32m    163\u001b[0m \u001b[38;5;28;01melse\u001b[39;00m:\n\u001b[1;32m    164\u001b[0m     (\n\u001b[1;32m    165\u001b[0m         value_solved,\n\u001b[1;32m    166\u001b[0m         policy_solved,\n\u001b[1;32m    167\u001b[0m         endog_grid_solved,\n\u001b[1;32m    168\u001b[0m         value,\n\u001b[1;32m    169\u001b[0m         marg_util,\n\u001b[0;32m--> 170\u001b[0m     ) \u001b[38;5;241m=\u001b[39m \u001b[43msolve_final_period_discrete\u001b[49m\u001b[43m(\u001b[49m\n\u001b[1;32m    171\u001b[0m \u001b[43m        \u001b[49m\u001b[43midx_state_choices_final_period\u001b[49m\u001b[38;5;241;43m=\u001b[39;49m\u001b[43midx_state_choices_final_period\u001b[49m\u001b[43m,\u001b[49m\n\u001b[1;32m    172\u001b[0m \u001b[43m        \u001b[49m\u001b[43midx_parent_states_final_period\u001b[49m\u001b[38;5;241;43m=\u001b[39;49m\u001b[43midx_parent_states_final_period\u001b[49m\u001b[43m,\u001b[49m\n\u001b[1;32m    173\u001b[0m \u001b[43m        \u001b[49m\u001b[43mstate_choice_mat_final_period\u001b[49m\u001b[38;5;241;43m=\u001b[39;49m\u001b[43mstate_choice_mat_final_period\u001b[49m\u001b[43m,\u001b[49m\n\u001b[1;32m    174\u001b[0m \u001b[43m        \u001b[49m\u001b[43mcont_grids_next_period\u001b[49m\u001b[38;5;241;43m=\u001b[39;49m\u001b[43mcont_grids_next_period\u001b[49m\u001b[43m,\u001b[49m\n\u001b[1;32m    175\u001b[0m \u001b[43m        \u001b[49m\u001b[43mexog_grids\u001b[49m\u001b[38;5;241;43m=\u001b[39;49m\u001b[43mexog_grids\u001b[49m\u001b[43m,\u001b[49m\n\u001b[1;32m    176\u001b[0m \u001b[43m        \u001b[49m\u001b[43mparams\u001b[49m\u001b[38;5;241;43m=\u001b[39;49m\u001b[43mparams\u001b[49m\u001b[43m,\u001b[49m\n\u001b[1;32m    177\u001b[0m \u001b[43m        \u001b[49m\u001b[43mcompute_utility\u001b[49m\u001b[38;5;241;43m=\u001b[39;49m\u001b[43mmodel_funcs\u001b[49m\u001b[43m[\u001b[49m\u001b[38;5;124;43m\"\u001b[39;49m\u001b[38;5;124;43mcompute_utility_final\u001b[39;49m\u001b[38;5;124;43m\"\u001b[39;49m\u001b[43m]\u001b[49m\u001b[43m,\u001b[49m\n\u001b[1;32m    178\u001b[0m \u001b[43m        \u001b[49m\u001b[43mcompute_marginal_utility\u001b[49m\u001b[38;5;241;43m=\u001b[39;49m\u001b[43mmodel_funcs\u001b[49m\u001b[43m[\u001b[49m\u001b[38;5;124;43m\"\u001b[39;49m\u001b[38;5;124;43mcompute_marginal_utility_final\u001b[39;49m\u001b[38;5;124;43m\"\u001b[39;49m\u001b[43m]\u001b[49m\u001b[43m,\u001b[49m\n\u001b[1;32m    179\u001b[0m \u001b[43m        \u001b[49m\u001b[43mvalue_solved\u001b[49m\u001b[38;5;241;43m=\u001b[39;49m\u001b[43mvalue_solved\u001b[49m\u001b[43m,\u001b[49m\n\u001b[1;32m    180\u001b[0m \u001b[43m        \u001b[49m\u001b[43mpolicy_solved\u001b[49m\u001b[38;5;241;43m=\u001b[39;49m\u001b[43mpolicy_solved\u001b[49m\u001b[43m,\u001b[49m\n\u001b[1;32m    181\u001b[0m \u001b[43m        \u001b[49m\u001b[43mendog_grid_solved\u001b[49m\u001b[38;5;241;43m=\u001b[39;49m\u001b[43mendog_grid_solved\u001b[49m\u001b[43m,\u001b[49m\n\u001b[1;32m    182\u001b[0m \u001b[43m    \u001b[49m\u001b[43m)\u001b[49m\n\u001b[1;32m    184\u001b[0m \u001b[38;5;28;01mreturn\u001b[39;00m (\n\u001b[1;32m    185\u001b[0m     value_solved,\n\u001b[1;32m    186\u001b[0m     policy_solved,\n\u001b[0;32m   (...)\u001b[0m\n\u001b[1;32m    189\u001b[0m     marg_util,\n\u001b[1;32m    190\u001b[0m )\n",
      "File \u001b[0;32m~/dcegm/src/dcegm/final_periods.py:218\u001b[0m, in \u001b[0;36msolve_final_period_discrete\u001b[0;34m(idx_state_choices_final_period, idx_parent_states_final_period, state_choice_mat_final_period, cont_grids_next_period, exog_grids, params, compute_utility, compute_marginal_utility, value_solved, policy_solved, endog_grid_solved)\u001b[0m\n\u001b[1;32m    198\u001b[0m \u001b[38;5;28;01mdef\u001b[39;00m\u001b[38;5;250m \u001b[39m\u001b[38;5;21msolve_final_period_discrete\u001b[39m(\n\u001b[1;32m    199\u001b[0m     idx_state_choices_final_period,\n\u001b[1;32m    200\u001b[0m     idx_parent_states_final_period,\n\u001b[0;32m   (...)\u001b[0m\n\u001b[1;32m    209\u001b[0m     endog_grid_solved,\n\u001b[1;32m    210\u001b[0m ):\n\u001b[1;32m    211\u001b[0m \u001b[38;5;250m    \u001b[39m\u001b[38;5;124;03m\"\"\"Solve final period for only discrete states.\u001b[39;00m\n\u001b[1;32m    212\u001b[0m \n\u001b[1;32m    213\u001b[0m \u001b[38;5;124;03m    Here we make use a trick to solve the final period directly at the wealth gridpoints\u001b[39;00m\n\u001b[0;32m   (...)\u001b[0m\n\u001b[1;32m    216\u001b[0m \n\u001b[1;32m    217\u001b[0m \u001b[38;5;124;03m    \"\"\"\u001b[39;00m\n\u001b[0;32m--> 218\u001b[0m     wealth_child_states_final_period \u001b[38;5;241m=\u001b[39m \u001b[43mcont_grids_next_period\u001b[49m\u001b[43m[\u001b[49m\u001b[38;5;124;43m\"\u001b[39;49m\u001b[38;5;124;43mwealth\u001b[39;49m\u001b[38;5;124;43m\"\u001b[39;49m\u001b[43m]\u001b[49m\u001b[43m[\u001b[49m\n\u001b[1;32m    219\u001b[0m \u001b[43m        \u001b[49m\u001b[43midx_parent_states_final_period\u001b[49m\n\u001b[1;32m    220\u001b[0m \u001b[43m    \u001b[49m\u001b[43m]\u001b[49m\n\u001b[1;32m    221\u001b[0m     n_wealth \u001b[38;5;241m=\u001b[39m exog_grids[\u001b[38;5;124m\"\u001b[39m\u001b[38;5;124mwealth\u001b[39m\u001b[38;5;124m\"\u001b[39m]\u001b[38;5;241m.\u001b[39mshape[\u001b[38;5;241m0\u001b[39m]\n\u001b[1;32m    223\u001b[0m     value, marg_util \u001b[38;5;241m=\u001b[39m vmap(\n\u001b[1;32m    224\u001b[0m         vmap(\n\u001b[1;32m    225\u001b[0m             vmap(\n\u001b[0;32m   (...)\u001b[0m\n\u001b[1;32m    237\u001b[0m         compute_marginal_utility,\n\u001b[1;32m    238\u001b[0m     )\n",
      "\u001b[0;31mTypeError\u001b[0m: only integer scalar arrays can be converted to a scalar index"
     ]
    }
   ],
   "source": [
    "value_solved, policy_solved, endog_grid_solved = solve_func(params)\n",
    "print(value_solved)"
   ]
  },
  {
   "cell_type": "markdown",
   "metadata": {},
   "source": [
    "## Initial values for simulating. "
   ]
  },
  {
   "cell_type": "code",
   "execution_count": 11,
   "metadata": {},
   "outputs": [],
   "source": [
    "# Select number of individuals for simulation\n",
    "n_individuals = 5000\n",
    "\n",
    "# set initial states for each individual\n",
    "states_initial = {\n",
    "    \"period\": jnp.zeros(n_individuals, dtype=jnp.int32),       # Every individual starts at period 0 (age 30)\n",
    "    \"lagged_choice\": jnp.full(n_individuals, 3, dtype=jnp.int32),  # Every individual starts with choice 3 (work fulltime)\n",
    "}\n",
    "\n",
    "# Set wealth at beginning of period, which is the starting wealth for every individual. \n",
    "wealth_initial = jnp.full(n_individuals, 3.0)   # Every individual starts with 300k wealth - to be adjusted based on the actual moments"
   ]
  },
  {
   "cell_type": "markdown",
   "metadata": {},
   "source": [
    "## Simulate model"
   ]
  },
  {
   "cell_type": "code",
   "execution_count": 12,
   "metadata": {},
   "outputs": [],
   "source": [
    "simulation = simulate_all_periods(states_initial=states_initial,\n",
    "            wealth_initial=wealth_initial,\n",
    "            n_periods=45,\n",
    "            params=params,\n",
    "            seed=123,\n",
    "            endog_grid_solved=endog_grid_solved,\n",
    "            policy_solved=policy_solved,\n",
    "            value_solved=value_solved,\n",
    "            model=model)"
   ]
  },
  {
   "cell_type": "markdown",
   "metadata": {},
   "source": [
    "## Convert simulation results to DataFrame"
   ]
  },
  {
   "cell_type": "code",
   "execution_count": 20,
   "metadata": {},
   "outputs": [
    {
     "ename": "ModuleNotFoundError",
     "evalue": "No module named 'openpyxl'",
     "output_type": "error",
     "traceback": [
      "\u001b[0;31m---------------------------------------------------------------------------\u001b[0m",
      "\u001b[0;31mModuleNotFoundError\u001b[0m                       Traceback (most recent call last)",
      "Cell \u001b[0;32mIn[20], line 34\u001b[0m\n\u001b[1;32m     31\u001b[0m df \u001b[38;5;241m=\u001b[39m create_simulation_df(simulation)\n\u001b[1;32m     33\u001b[0m \u001b[38;5;66;03m#print to excel\u001b[39;00m\n\u001b[0;32m---> 34\u001b[0m \u001b[43mdf\u001b[49m\u001b[38;5;241;43m.\u001b[39;49m\u001b[43mto_excel\u001b[49m\u001b[43m(\u001b[49m\u001b[38;5;124;43m\"\u001b[39;49m\u001b[38;5;124;43m/Users/frederiklarsen/Library/Mobile Documents/com~apple~CloudDocs/KU/Speciale/Resultater/simulation_output.xlsx\u001b[39;49m\u001b[38;5;124;43m\"\u001b[39;49m\u001b[43m)\u001b[49m\n\u001b[1;32m     35\u001b[0m \u001b[38;5;28mprint\u001b[39m(df)\n",
      "File \u001b[0;32m/opt/anaconda3/envs/dcegm/lib/python3.11/site-packages/pandas/util/_decorators.py:333\u001b[0m, in \u001b[0;36mdeprecate_nonkeyword_arguments.<locals>.decorate.<locals>.wrapper\u001b[0;34m(*args, **kwargs)\u001b[0m\n\u001b[1;32m    327\u001b[0m \u001b[38;5;28;01mif\u001b[39;00m \u001b[38;5;28mlen\u001b[39m(args) \u001b[38;5;241m>\u001b[39m num_allow_args:\n\u001b[1;32m    328\u001b[0m     warnings\u001b[38;5;241m.\u001b[39mwarn(\n\u001b[1;32m    329\u001b[0m         msg\u001b[38;5;241m.\u001b[39mformat(arguments\u001b[38;5;241m=\u001b[39m_format_argument_list(allow_args)),\n\u001b[1;32m    330\u001b[0m         \u001b[38;5;167;01mFutureWarning\u001b[39;00m,\n\u001b[1;32m    331\u001b[0m         stacklevel\u001b[38;5;241m=\u001b[39mfind_stack_level(),\n\u001b[1;32m    332\u001b[0m     )\n\u001b[0;32m--> 333\u001b[0m \u001b[38;5;28;01mreturn\u001b[39;00m \u001b[43mfunc\u001b[49m\u001b[43m(\u001b[49m\u001b[38;5;241;43m*\u001b[39;49m\u001b[43margs\u001b[49m\u001b[43m,\u001b[49m\u001b[43m \u001b[49m\u001b[38;5;241;43m*\u001b[39;49m\u001b[38;5;241;43m*\u001b[39;49m\u001b[43mkwargs\u001b[49m\u001b[43m)\u001b[49m\n",
      "File \u001b[0;32m/opt/anaconda3/envs/dcegm/lib/python3.11/site-packages/pandas/core/generic.py:2417\u001b[0m, in \u001b[0;36mNDFrame.to_excel\u001b[0;34m(self, excel_writer, sheet_name, na_rep, float_format, columns, header, index, index_label, startrow, startcol, engine, merge_cells, inf_rep, freeze_panes, storage_options, engine_kwargs)\u001b[0m\n\u001b[1;32m   2404\u001b[0m \u001b[38;5;28;01mfrom\u001b[39;00m\u001b[38;5;250m \u001b[39m\u001b[38;5;21;01mpandas\u001b[39;00m\u001b[38;5;21;01m.\u001b[39;00m\u001b[38;5;21;01mio\u001b[39;00m\u001b[38;5;21;01m.\u001b[39;00m\u001b[38;5;21;01mformats\u001b[39;00m\u001b[38;5;21;01m.\u001b[39;00m\u001b[38;5;21;01mexcel\u001b[39;00m\u001b[38;5;250m \u001b[39m\u001b[38;5;28;01mimport\u001b[39;00m ExcelFormatter\n\u001b[1;32m   2406\u001b[0m formatter \u001b[38;5;241m=\u001b[39m ExcelFormatter(\n\u001b[1;32m   2407\u001b[0m     df,\n\u001b[1;32m   2408\u001b[0m     na_rep\u001b[38;5;241m=\u001b[39mna_rep,\n\u001b[0;32m   (...)\u001b[0m\n\u001b[1;32m   2415\u001b[0m     inf_rep\u001b[38;5;241m=\u001b[39minf_rep,\n\u001b[1;32m   2416\u001b[0m )\n\u001b[0;32m-> 2417\u001b[0m \u001b[43mformatter\u001b[49m\u001b[38;5;241;43m.\u001b[39;49m\u001b[43mwrite\u001b[49m\u001b[43m(\u001b[49m\n\u001b[1;32m   2418\u001b[0m \u001b[43m    \u001b[49m\u001b[43mexcel_writer\u001b[49m\u001b[43m,\u001b[49m\n\u001b[1;32m   2419\u001b[0m \u001b[43m    \u001b[49m\u001b[43msheet_name\u001b[49m\u001b[38;5;241;43m=\u001b[39;49m\u001b[43msheet_name\u001b[49m\u001b[43m,\u001b[49m\n\u001b[1;32m   2420\u001b[0m \u001b[43m    \u001b[49m\u001b[43mstartrow\u001b[49m\u001b[38;5;241;43m=\u001b[39;49m\u001b[43mstartrow\u001b[49m\u001b[43m,\u001b[49m\n\u001b[1;32m   2421\u001b[0m \u001b[43m    \u001b[49m\u001b[43mstartcol\u001b[49m\u001b[38;5;241;43m=\u001b[39;49m\u001b[43mstartcol\u001b[49m\u001b[43m,\u001b[49m\n\u001b[1;32m   2422\u001b[0m \u001b[43m    \u001b[49m\u001b[43mfreeze_panes\u001b[49m\u001b[38;5;241;43m=\u001b[39;49m\u001b[43mfreeze_panes\u001b[49m\u001b[43m,\u001b[49m\n\u001b[1;32m   2423\u001b[0m \u001b[43m    \u001b[49m\u001b[43mengine\u001b[49m\u001b[38;5;241;43m=\u001b[39;49m\u001b[43mengine\u001b[49m\u001b[43m,\u001b[49m\n\u001b[1;32m   2424\u001b[0m \u001b[43m    \u001b[49m\u001b[43mstorage_options\u001b[49m\u001b[38;5;241;43m=\u001b[39;49m\u001b[43mstorage_options\u001b[49m\u001b[43m,\u001b[49m\n\u001b[1;32m   2425\u001b[0m \u001b[43m    \u001b[49m\u001b[43mengine_kwargs\u001b[49m\u001b[38;5;241;43m=\u001b[39;49m\u001b[43mengine_kwargs\u001b[49m\u001b[43m,\u001b[49m\n\u001b[1;32m   2426\u001b[0m \u001b[43m\u001b[49m\u001b[43m)\u001b[49m\n",
      "File \u001b[0;32m/opt/anaconda3/envs/dcegm/lib/python3.11/site-packages/pandas/io/formats/excel.py:943\u001b[0m, in \u001b[0;36mExcelFormatter.write\u001b[0;34m(self, writer, sheet_name, startrow, startcol, freeze_panes, engine, storage_options, engine_kwargs)\u001b[0m\n\u001b[1;32m    941\u001b[0m     need_save \u001b[38;5;241m=\u001b[39m \u001b[38;5;28;01mFalse\u001b[39;00m\n\u001b[1;32m    942\u001b[0m \u001b[38;5;28;01melse\u001b[39;00m:\n\u001b[0;32m--> 943\u001b[0m     writer \u001b[38;5;241m=\u001b[39m \u001b[43mExcelWriter\u001b[49m\u001b[43m(\u001b[49m\n\u001b[1;32m    944\u001b[0m \u001b[43m        \u001b[49m\u001b[43mwriter\u001b[49m\u001b[43m,\u001b[49m\n\u001b[1;32m    945\u001b[0m \u001b[43m        \u001b[49m\u001b[43mengine\u001b[49m\u001b[38;5;241;43m=\u001b[39;49m\u001b[43mengine\u001b[49m\u001b[43m,\u001b[49m\n\u001b[1;32m    946\u001b[0m \u001b[43m        \u001b[49m\u001b[43mstorage_options\u001b[49m\u001b[38;5;241;43m=\u001b[39;49m\u001b[43mstorage_options\u001b[49m\u001b[43m,\u001b[49m\n\u001b[1;32m    947\u001b[0m \u001b[43m        \u001b[49m\u001b[43mengine_kwargs\u001b[49m\u001b[38;5;241;43m=\u001b[39;49m\u001b[43mengine_kwargs\u001b[49m\u001b[43m,\u001b[49m\n\u001b[1;32m    948\u001b[0m \u001b[43m    \u001b[49m\u001b[43m)\u001b[49m\n\u001b[1;32m    949\u001b[0m     need_save \u001b[38;5;241m=\u001b[39m \u001b[38;5;28;01mTrue\u001b[39;00m\n\u001b[1;32m    951\u001b[0m \u001b[38;5;28;01mtry\u001b[39;00m:\n",
      "File \u001b[0;32m/opt/anaconda3/envs/dcegm/lib/python3.11/site-packages/pandas/io/excel/_openpyxl.py:57\u001b[0m, in \u001b[0;36mOpenpyxlWriter.__init__\u001b[0;34m(self, path, engine, date_format, datetime_format, mode, storage_options, if_sheet_exists, engine_kwargs, **kwargs)\u001b[0m\n\u001b[1;32m     44\u001b[0m \u001b[38;5;28;01mdef\u001b[39;00m\u001b[38;5;250m \u001b[39m\u001b[38;5;21m__init__\u001b[39m(\n\u001b[1;32m     45\u001b[0m     \u001b[38;5;28mself\u001b[39m,\n\u001b[1;32m     46\u001b[0m     path: FilePath \u001b[38;5;241m|\u001b[39m WriteExcelBuffer \u001b[38;5;241m|\u001b[39m ExcelWriter,\n\u001b[0;32m   (...)\u001b[0m\n\u001b[1;32m     55\u001b[0m ) \u001b[38;5;241m-\u001b[39m\u001b[38;5;241m>\u001b[39m \u001b[38;5;28;01mNone\u001b[39;00m:\n\u001b[1;32m     56\u001b[0m     \u001b[38;5;66;03m# Use the openpyxl module as the Excel writer.\u001b[39;00m\n\u001b[0;32m---> 57\u001b[0m     \u001b[38;5;28;01mfrom\u001b[39;00m\u001b[38;5;250m \u001b[39m\u001b[38;5;21;01mopenpyxl\u001b[39;00m\u001b[38;5;21;01m.\u001b[39;00m\u001b[38;5;21;01mworkbook\u001b[39;00m\u001b[38;5;250m \u001b[39m\u001b[38;5;28;01mimport\u001b[39;00m Workbook\n\u001b[1;32m     59\u001b[0m     engine_kwargs \u001b[38;5;241m=\u001b[39m combine_kwargs(engine_kwargs, kwargs)\n\u001b[1;32m     61\u001b[0m     \u001b[38;5;28msuper\u001b[39m()\u001b[38;5;241m.\u001b[39m\u001b[38;5;21m__init__\u001b[39m(\n\u001b[1;32m     62\u001b[0m         path,\n\u001b[1;32m     63\u001b[0m         mode\u001b[38;5;241m=\u001b[39mmode,\n\u001b[0;32m   (...)\u001b[0m\n\u001b[1;32m     66\u001b[0m         engine_kwargs\u001b[38;5;241m=\u001b[39mengine_kwargs,\n\u001b[1;32m     67\u001b[0m     )\n",
      "\u001b[0;31mModuleNotFoundError\u001b[0m: No module named 'openpyxl'"
     ]
    }
   ],
   "source": [
    "df = create_simulation_df(simulation)\n",
    "\n",
    "#print to excel\n",
    "#df.to_excel(\"/Users/frederiklarsen/Library/Mobile Documents/com~apple~CloudDocs/KU/Speciale/Resultater/simulation_output.xlsx\")\n",
    "print(df)"
   ]
  },
  {
   "cell_type": "markdown",
   "metadata": {},
   "source": [
    "## Load moments generated from data"
   ]
  },
  {
   "cell_type": "markdown",
   "metadata": {},
   "source": [
    "vægt = varians af empiriske momenter'\n",
    "hent varians for momenter hjem\n",
    "\n",
    "\n",
    "W = var(datamoment)^-1\n",
    "w_qq = 1/var(x)/n"
   ]
  },
  {
   "cell_type": "code",
   "execution_count": 17,
   "metadata": {},
   "outputs": [
    {
     "name": "stdout",
     "output_type": "stream",
     "text": [
      "   age  prob_work   hours_0   hours_1   hours_2   hours_3  avg_wealth  \\\n",
      "0   30   0.693223  0.306777  0.097603  0.111916  0.483704    0.666128   \n",
      "1   31   0.691881  0.308119  0.087089  0.099696  0.505097    0.738634   \n",
      "2   32   0.704009  0.295991  0.083747  0.099067  0.521194    0.764240   \n",
      "3   33   0.715057  0.284943  0.076142  0.103338  0.535577    0.839890   \n",
      "4   34   0.720249  0.279751  0.072010  0.096433  0.551806    0.897418   \n",
      "\n",
      "   work_work  nowork_nowork  avg_wage    avg_hours  var_wage  skew_wage  pens  \n",
      "0        NaN            NaN  3.160401  1646.132913  2.266921   5.501251   NaN  \n",
      "1   0.638971       0.248335  3.332977  1679.738401  2.705283   6.952155   NaN  \n",
      "2   0.645700       0.243295  3.446961  1690.752006  2.522834   3.530664   NaN  \n",
      "3   0.664658       0.233028  3.561403  1705.418763  3.038437   5.679844   NaN  \n",
      "4   0.674020       0.232027  3.696943  1719.543811  3.370498   6.299609   NaN  \n",
      "   age  prob_work   hours_0   hours_1   hours_2   hours_3  avg_wealth  \\\n",
      "0   30   0.740754  0.259246  0.124111  0.092817  0.523826    0.952840   \n",
      "1   31   0.779091  0.220909  0.097818  0.082182  0.599091    1.066664   \n",
      "2   32   0.808822  0.191178  0.082125  0.086268  0.640429    1.276881   \n",
      "3   33   0.826996  0.173004  0.073934  0.082405  0.670656    1.417162   \n",
      "4   34   0.837337  0.162663  0.070456  0.076754  0.690127    1.541656   \n",
      "\n",
      "   work_work  nowork_nowork  avg_wage    avg_hours  var_wage  skew_wage  pens  \n",
      "0        NaN            NaN  3.473951  1647.474599  2.619196   1.226130   NaN  \n",
      "1   0.708493       0.168707  3.753447  1712.352394  2.676955   1.176905   NaN  \n",
      "2   0.751626       0.142556  3.981726  1747.274064  3.468185   4.203821   NaN  \n",
      "3   0.783500       0.131822  4.182062  1767.851113  3.591574   1.981098   NaN  \n",
      "4   0.799043       0.119004  4.380738  1782.548152  4.733615   5.869497   NaN  \n",
      "   age  prob_work   hours_0   hours_1   hours_2   hours_3  avg_wealth  \\\n",
      "0   30   0.836735  0.163265  0.081319  0.093250  0.662166    1.580371   \n",
      "1   31   0.837066  0.162934  0.066315  0.083004  0.687747    1.674530   \n",
      "2   32   0.848355  0.151645  0.063949  0.077132  0.707274    1.776663   \n",
      "3   33   0.851662  0.148338  0.054155  0.070499  0.727008    1.943323   \n",
      "4   34   0.858821  0.141179  0.052005  0.067170  0.739646    2.194718   \n",
      "\n",
      "   work_work  nowork_nowork  avg_wage    avg_hours  var_wage  skew_wage  pens  \n",
      "0        NaN            NaN  4.232758  1747.249238  3.806308   2.015748   NaN  \n",
      "1   0.785493       0.118723  4.513549  1776.805285  4.605113   2.568015   NaN  \n",
      "2   0.796560       0.111568  4.753396  1787.503498  5.339535   2.612390   NaN  \n",
      "3   0.814630       0.106365  5.094494  1809.628323  7.654149   7.685723   NaN  \n",
      "4   0.823347       0.105948  5.374004  1820.022235  8.007209   3.338525   NaN  \n"
     ]
    }
   ],
   "source": [
    "df_edu_1 = pd.read_csv(r\"/Users/frederiklarsen/Downloads/Transfer_703047_090425/moments_udd1.txt\")\n",
    "#rename alder to age\n",
    "df_edu_1.rename(columns={\"ALDER\": \"age\"}, inplace=True)\n",
    "df_edu_2 = pd.read_csv(r\"/Users/frederiklarsen/Downloads/Transfer_703047_090425/moments_udd2.txt\")\n",
    "#rename alder to age\n",
    "df_edu_2.rename(columns={\"ALDER\": \"age\"}, inplace=True)\n",
    "df_edu_3 = pd.read_csv(r\"/Users/frederiklarsen/Downloads/Transfer_703047_090425/moments_udd3.txt\")\n",
    "#rename alder to age\n",
    "df_edu_3.rename(columns={\"ALDER\": \"age\"}, inplace=True)\n",
    "\n",
    "\n",
    "# print head\n",
    "print(df_edu_1.head())\n",
    "print(df_edu_2.head())\n",
    "print(df_edu_3.head())"
   ]
  },
  {
   "cell_type": "markdown",
   "metadata": {},
   "source": [
    "## Plots"
   ]
  },
  {
   "cell_type": "code",
   "execution_count": null,
   "metadata": {},
   "outputs": [
    {
     "data": {
      "text/plain": [
       "Traceback (most recent call last):\n",
       "  File \"/Users/frederiklarsen/.vscode/extensions/ms-python.python-2025.0.0-darwin-arm64/python_files/python_server.py\", line 133, in exec_user_input\n",
       "    retval = callable_(user_input, user_globals)\n",
       "             ^^^^^^^^^^^^^^^^^^^^^^^^^^^^^^^^^^^\n",
       "  File \"<string>\", line 12, in <module>\n",
       "  File \"/opt/anaconda3/envs/.conda_env/lib/python3.11/site-packages/matplotlib/pyplot.py\", line 614, in show\n",
       "    return _get_backend_mod().show(*args, **kwargs)\n",
       "           ^^^^^^^^^^^^^^^^^^^^^^^^^^^^^^^^^^^^^^^^\n",
       "  File \"/opt/anaconda3/envs/.conda_env/lib/python3.11/site-packages/matplotlib/backend_bases.py\", line 3547, in show\n",
       "    cls.mainloop()\n",
       "  File \"/opt/anaconda3/envs/.conda_env/lib/python3.11/site-packages/matplotlib/backends/backend_macosx.py\", line 179, in start_main_loop\n",
       "    with _allow_interrupt_macos():\n",
       "  File \"/opt/anaconda3/envs/.conda_env/lib/python3.11/contextlib.py\", line 144, in __exit__\n",
       "    next(self.gen)\n",
       "  File \"/opt/anaconda3/envs/.conda_env/lib/python3.11/site-packages/matplotlib/backend_bases.py\", line 1658, in _allow_interrupt\n",
       "    old_sigint_handler(*handler_args)\n",
       "KeyboardInterrupt\n",
       "\n"
      ]
     },
     "metadata": {},
     "output_type": "display_data"
    }
   ],
   "source": [
    "# plot the wealth over age for df_edu_1\n",
    "for var in df_edu_1.columns:\n",
    "    plt.figure(figsize=(10, 6))\n",
    "    plt.plot(df_edu_1[\"age\"], df_edu_1[var], label=\" \", color=\"blue\")\n",
    "    plt.title(\" \")\n",
    "    plt.xlabel(\"Age\")\n",
    "    # give ylabel to clumn name\n",
    "    plt.ylabel(var)\n",
    "    plt.legend()\n",
    "    plt.grid() \n",
    "\n",
    "plt.show()\n",
    "\n"
   ]
  },
  {
   "cell_type": "code",
   "execution_count": null,
   "metadata": {},
   "outputs": [
    {
     "data": {
      "text/plain": [
       "Traceback (most recent call last):\n",
       "  File \"/opt/anaconda3/envs/.conda_env/lib/python3.11/site-packages/pandas/core/indexes/base.py\", line 3805, in get_loc\n",
       "    return self._engine.get_loc(casted_key)\n",
       "           ^^^^^^^^^^^^^^^^^^^^^^^^^^^^^^^^\n",
       "  File \"index.pyx\", line 167, in pandas._libs.index.IndexEngine.get_loc\n",
       "  File \"index.pyx\", line 196, in pandas._libs.index.IndexEngine.get_loc\n",
       "  File \"pandas/_libs/hashtable_class_helper.pxi\", line 7081, in pandas._libs.hashtable.PyObjectHashTable.get_item\n",
       "  File \"pandas/_libs/hashtable_class_helper.pxi\", line 7089, in pandas._libs.hashtable.PyObjectHashTable.get_item\n",
       "KeyError: 'period'\n",
       "\n",
       "The above exception was the direct cause of the following exception:\n",
       "\n",
       "Traceback (most recent call last):\n",
       "  File \"/Users/frederiklarsen/.vscode/extensions/ms-python.python-2025.0.0-darwin-arm64/python_files/python_server.py\", line 133, in exec_user_input\n",
       "    retval = callable_(user_input, user_globals)\n",
       "             ^^^^^^^^^^^^^^^^^^^^^^^^^^^^^^^^^^^\n",
       "  File \"<string>\", line 3, in <module>\n",
       "  File \"/opt/anaconda3/envs/.conda_env/lib/python3.11/site-packages/pandas/core/frame.py\", line 4102, in __getitem__\n",
       "    indexer = self.columns.get_loc(key)\n",
       "              ^^^^^^^^^^^^^^^^^^^^^^^^^\n",
       "  File \"/opt/anaconda3/envs/.conda_env/lib/python3.11/site-packages/pandas/core/indexes/base.py\", line 3812, in get_loc\n",
       "    raise KeyError(key) from err\n",
       "KeyError: 'period'\n",
       "\n"
      ]
     },
     "metadata": {},
     "output_type": "display_data"
    }
   ],
   "source": [
    "#plot wealth over time\n",
    "plt.figure(figsize=(10, 6))\n",
    "plt.plot(df[\"period\"], df[\"wealth_beginning_of_period\"], label=\"Wealth\", color='orange')\n",
    "plt.xlabel(\"Period\")\n",
    "plt.ylabel(\"Wealth\")\n",
    "plt.title(\"Wealth Over Time\")\n",
    "plt.legend()\n",
    "plt.grid()\n",
    "plt.savefig(\"/Users/frederiklarsen/Library/Mobile Documents/com~apple~CloudDocs/KU/Speciale/figurer/wealth_over_time.png\")\n",
    "plt.show()"
   ]
  }
 ],
 "metadata": {
  "kernelspec": {
   "display_name": "dcegm",
   "language": "python",
   "name": "python3"
  },
  "language_info": {
   "codemirror_mode": {
    "name": "ipython",
    "version": 3
   },
   "file_extension": ".py",
   "mimetype": "text/x-python",
   "name": "python",
   "nbconvert_exporter": "python",
   "pygments_lexer": "ipython3",
   "version": "3.11.11"
  }
 },
 "nbformat": 4,
 "nbformat_minor": 2
}
